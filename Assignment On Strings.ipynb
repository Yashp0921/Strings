{
 "cells": [
  {
   "cell_type": "code",
   "execution_count": 5,
   "id": "e7b6400b",
   "metadata": {},
   "outputs": [
    {
     "name": "stdout",
     "output_type": "stream",
     "text": [
      "Enter The String: learning python is very easy\n",
      "Total number of characters in the string:  28\n",
      "String repeated 10 times:  learning python is very easylearning python is very easylearning python is very easylearning python is very easylearning python is very easylearning python is very easylearning python is very easylearning python is very easylearning python is very easylearning python is very easy\n",
      "First character of the string:  l\n",
      "First three characters of the string:  lea\n",
      "Last three characters of the string:  asy\n",
      "String backwards:  ysae yrev si nohtyp gninrael\n",
      "Seventh character of the string:  g\n",
      "first and last characters removed:  earning python is very eas\n",
      "string in all caps:  LEARNING PYTHON IS VERY EASY\n",
      "string with every a replaced with an e:  leerning python is very eesy\n"
     ]
    }
   ],
   "source": [
    "# Q.1\n",
    "\n",
    "str1=input('Enter The String: ')\n",
    "print(\"Total number of characters in the string: \",len(str1))\n",
    "print(\"String repeated 10 times: \",str1 * 10)\n",
    "print(\"First character of the string: \",str1[0])\n",
    "print(\"First three characters of the string: \",str1[0:3])\n",
    "print(\"Last three characters of the string: \",str1[-3:])\n",
    "print(\"String backwards: \",str1[::-1])\n",
    "if len(str1) >= 7:\n",
    "    print(\"Seventh character of the string: \", str1[7])\n",
    "else:\n",
    "    print(\"The string is long enough: \")\n",
    "print(\"first and last characters removed: \",str1[1:-1])\n",
    "print(\"string in all caps: \",str1.upper())\n",
    "print(\"string with every a replaced with an e: \",str1.replace('a','e'))"
   ]
  },
  {
   "cell_type": "code",
   "execution_count": 3,
   "id": "e7d93cb5",
   "metadata": {},
   "outputs": [
    {
     "name": "stdout",
     "output_type": "stream",
     "text": [
      "Enter the string: p y t h o n is e a s y\n",
      "the number of words using spaces:  10\n"
     ]
    }
   ],
   "source": [
    "#Q.2\n",
    "\n",
    "str2=input(\"Enter the string: \")\n",
    "count=0\n",
    "for letter in str2:\n",
    "    if letter==' ':\n",
    "        count+=1\n",
    "        \n",
    "print(\"the number of words using spaces: \",count)"
   ]
  },
  {
   "cell_type": "code",
   "execution_count": 5,
   "id": "d5668ade",
   "metadata": {},
   "outputs": [
    {
     "name": "stdout",
     "output_type": "stream",
     "text": [
      "Enter a word: hai how are you feeling today\n",
      "a\n",
      "i\n",
      "o\n",
      "a\n",
      "e\n",
      "o\n",
      "u\n",
      "e\n",
      "e\n",
      "i\n",
      "o\n",
      "a\n",
      "words contains any vowels:  12\n"
     ]
    }
   ],
   "source": [
    "#Q.3\n",
    "\n",
    "string1=input(\"Enter a word: \")\n",
    "count=0\n",
    "for i in string1:\n",
    "    if i in 'aeiou':\n",
    "        print(i)\n",
    "        count+=1\n",
    "print(\"words contains any vowels: \",count)"
   ]
  },
  {
   "cell_type": "code",
   "execution_count": 6,
   "id": "eb479d38",
   "metadata": {},
   "outputs": [
    {
     "name": "stdout",
     "output_type": "stream",
     "text": [
      "how many unique vowels are there: hai how are you doing today\n",
      "the unique vowels present there are:  aioeu\n",
      "no of unique vowels in the string:  5\n"
     ]
    }
   ],
   "source": [
    "#Q.4\n",
    "\n",
    "string1=input('how many unique vowels are there: ')\n",
    "s=''\n",
    "for i in string1:\n",
    "    if i in 'aeiou':\n",
    "        if i not in s:\n",
    "            s=s+i\n",
    "print(\"the unique vowels present there are: \",s)\n",
    "print(\"no of unique vowels in the string: \",len(s))"
   ]
  },
  {
   "cell_type": "code",
   "execution_count": 1,
   "id": "32dbcf19",
   "metadata": {},
   "outputs": [
    {
     "name": "stdout",
     "output_type": "stream",
     "text": [
      "enter the string:Qbert\n",
      "Q*ert!!!\n"
     ]
    }
   ],
   "source": [
    "#Q.5\n",
    "str5=input(\"enter the string:\")\n",
    "new_string=str5\n",
    "print(\"{}*{}!!!\".format(str5[0],str5[2::]))"
   ]
  },
  {
   "cell_type": "code",
   "execution_count": 10,
   "id": "9d013822",
   "metadata": {},
   "outputs": [
    {
     "name": "stdout",
     "output_type": "stream",
     "text": [
      "Enter a word: eye\n",
      "The word is a palindrome\n"
     ]
    }
   ],
   "source": [
    "#Q.6\n",
    "\n",
    "string1=input(\"Enter a word: \")\n",
    "string1_1=string1[::-1]\n",
    "if string1==string1_1:\n",
    "    print(\"The word is a palindrome\")\n",
    "else:\n",
    "    print(\"The word is not a palindrome\")"
   ]
  },
  {
   "cell_type": "code",
   "execution_count": null,
   "id": "894679bf",
   "metadata": {},
   "outputs": [
    {
     "name": "stdout",
     "output_type": "stream",
     "text": [
      "enter the mail id:yash@student.college.edu.\n",
      "!!!The mail id is invalid, kindly check the mail id!!!\n",
      "enter the mail id:yash@student.college.edu\n",
      "the entered mail id is student mail id\n",
      "enter the mail id:omkar@prof.college.edu\n",
      "the entered mail id is professor mail id\n",
      "enter the mail id:yash@jhgcjkb\n",
      "!!!The mail id is invalid, kindly check the mail id!!!\n",
      "enter the mail id:jhagfaj@sdmhbkjs\n",
      "!!!The mail id is invalid, kindly check the mail id!!!\n"
     ]
    }
   ],
   "source": [
    "#Q.7\n",
    "\n",
    "i=0\n",
    "while i<=5:\n",
    "    str_mail=input(\"enter the mail id:\")\n",
    "    if str_mail.endswith(\"@student.college.edu\"):\n",
    "        print(\"the entered mail id is student mail id\")\n",
    "    elif str_mail.endswith(\"@prof.college.edu\"):\n",
    "        print(\"the entered mail id is professor mail id\")\n",
    "    else:\n",
    "        print(\"!!!The mail id is invalid, kindly check the mail id!!!\")\n",
    "        \n",
    "    i+=1"
   ]
  },
  {
   "cell_type": "code",
   "execution_count": 6,
   "id": "649b9ff8",
   "metadata": {},
   "outputs": [
    {
     "name": "stdout",
     "output_type": "stream",
     "text": [
      "Enter a string: yash\n",
      "yy\n",
      "aa\n",
      "ss\n",
      "hh\n"
     ]
    }
   ],
   "source": [
    "#Q.8\n",
    "\n",
    "str6=input(\"Enter a string: \")\n",
    "i=0\n",
    "while i<len(str6):\n",
    "    print(str6[i]*2)\n",
    "    i+=1"
   ]
  },
  {
   "cell_type": "code",
   "execution_count": 7,
   "id": "26304a48",
   "metadata": {},
   "outputs": [
    {
     "name": "stdout",
     "output_type": "stream",
     "text": [
      "Enter a word: Buffalo\n",
      "Buffa\n",
      "lo\n"
     ]
    }
   ],
   "source": [
    "#Q.9\n",
    "str7=input(\"Enter a word: \")\n",
    "word= str7.split(\"a\", 1)\n",
    "print(word[0] + \"a\")\n",
    "print(word[1])"
   ]
  },
  {
   "cell_type": "code",
   "execution_count": 1,
   "id": "3cd48255",
   "metadata": {},
   "outputs": [
    {
     "name": "stdout",
     "output_type": "stream",
     "text": [
      "enter the string: ABCDE\n",
      "a B c D e "
     ]
    }
   ],
   "source": [
    "#Q.10\n",
    "\n",
    "string=input(\"enter the string: \")\n",
    "for i in range(len(string)):\n",
    "    if i%2==0:\n",
    "        print(string[i].lower(),end=\" \")\n",
    "    else:\n",
    "        print(string[i].capitalize(),end=\" \")"
   ]
  },
  {
   "cell_type": "code",
   "execution_count": 8,
   "id": "b3af02ff",
   "metadata": {},
   "outputs": [
    {
     "name": "stdout",
     "output_type": "stream",
     "text": [
      "enter the string: abcde\n",
      "enter the string: ABCDE\n",
      " AaBbCcDdEe\n"
     ]
    }
   ],
   "source": [
    "#Q.11\n",
    "\n",
    "str11=input(\"enter the string: \")\n",
    "str11_a=input(\"enter the string: \")\n",
    "if len(str11)!=len(str11_a):\n",
    "    print(\"length of the both strings are  not same \")\n",
    "    exit()\n",
    "else:\n",
    "    res=\" \"\n",
    "    for i in range(len(str11)):\n",
    "        res+=str11_a[i]\n",
    "        res+=str11[i]\n",
    "            \n",
    "    print(res)"
   ]
  },
  {
   "cell_type": "code",
   "execution_count": 9,
   "id": "a81b14d5",
   "metadata": {},
   "outputs": [
    {
     "name": "stdout",
     "output_type": "stream",
     "text": [
      "enter your full name: yash pampanwar\n",
      "Yash Pampanwar\n"
     ]
    }
   ],
   "source": [
    "#Q.12\n",
    "\n",
    "str12=input(\"enter your full name: \")\n",
    "print(str12.title())"
   ]
  },
  {
   "cell_type": "code",
   "execution_count": null,
   "id": "31869643",
   "metadata": {},
   "outputs": [],
   "source": [
    "#Q.13\n",
    "\n"
   ]
  },
  {
   "cell_type": "code",
   "execution_count": 10,
   "id": "f5bd4b2e",
   "metadata": {},
   "outputs": [
    {
     "name": "stdout",
     "output_type": "stream",
     "text": [
      "enter the string: From stephen.marquard@uct.ac.za Sat Jan 5 09:14:16 2008\n",
      "the removed part before value:  From stephen.marquard\n",
      "the removed part from the given string:  uct.ac.za Sat Jan 5 09:14:16 2008\n"
     ]
    }
   ],
   "source": [
    "#Q.14 \n",
    "\n",
    "str14=input(\"enter the string: \")\n",
    "parts10= str14.split(\"@\")\n",
    "\n",
    "print(\"the removed part before value: \",parts10[0] )\n",
    "print(\"the removed part from the given string: \",parts10[1])"
   ]
  },
  {
   "cell_type": "code",
   "execution_count": 11,
   "id": "77f43ac0",
   "metadata": {},
   "outputs": [
    {
     "name": "stdout",
     "output_type": "stream",
     "text": [
      "enter the string: abc\n",
      "abcing \n",
      "enter the string: string\n",
      "stringly \n"
     ]
    }
   ],
   "source": [
    "#Q.15\n",
    "\n",
    "str15=input(\"enter the string: \")\n",
    "ly=\"ly \"\n",
    "ing=\"ing \"\n",
    "if str15.endswith(\"ing\"):\n",
    "    print(str15+ly)\n",
    "else:\n",
    "    print(str15+ing)\n",
    "    \n",
    "    \n",
    "    \n",
    "    \n",
    "str15=input(\"enter the string: \")\n",
    "ly=\"ly \"\n",
    "ing=\"ing \"\n",
    "if str15.endswith(\"ing\"):\n",
    "    print(str15+ly)\n",
    "else:\n",
    "    print(str15+ing)"
   ]
  },
  {
   "cell_type": "code",
   "execution_count": 14,
   "id": "ba1352c7",
   "metadata": {},
   "outputs": [
    {
     "name": "stdout",
     "output_type": "stream",
     "text": [
      "X-DSPAM-Confidence:\n",
      "the value converted from string into float: 0.8475\n"
     ]
    },
    {
     "data": {
      "text/plain": [
       "float"
      ]
     },
     "execution_count": 14,
     "metadata": {},
     "output_type": "execute_result"
    }
   ],
   "source": [
    "#Q.16\n",
    "\n",
    "str10='X-DSPAM-Confidence: 0.8475'\n",
    "parts12= str10.split(\":\")               \n",
    "print(parts12[0] + \":\")\n",
    "num=float(parts12[1])\n",
    "print(\"the value converted from string into float:\",num)\n",
    "type(num)"
   ]
  },
  {
   "cell_type": "code",
   "execution_count": null,
   "id": "856d6079",
   "metadata": {},
   "outputs": [],
   "source": []
  },
  {
   "cell_type": "code",
   "execution_count": null,
   "id": "bdb0c472",
   "metadata": {},
   "outputs": [],
   "source": []
  },
  {
   "cell_type": "code",
   "execution_count": null,
   "id": "3b4cb23c",
   "metadata": {},
   "outputs": [],
   "source": []
  },
  {
   "cell_type": "code",
   "execution_count": null,
   "id": "cc2df462",
   "metadata": {},
   "outputs": [],
   "source": []
  }
 ],
 "metadata": {
  "kernelspec": {
   "display_name": "Python 3 (ipykernel)",
   "language": "python",
   "name": "python3"
  },
  "language_info": {
   "codemirror_mode": {
    "name": "ipython",
    "version": 3
   },
   "file_extension": ".py",
   "mimetype": "text/x-python",
   "name": "python",
   "nbconvert_exporter": "python",
   "pygments_lexer": "ipython3",
   "version": "3.10.9"
  }
 },
 "nbformat": 4,
 "nbformat_minor": 5
}
